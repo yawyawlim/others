{
 "cells": [
  {
   "cell_type": "code",
   "execution_count": 37,
   "id": "ea157efb-ad56-4bb7-b813-c81a3b380252",
   "metadata": {},
   "outputs": [],
   "source": [
    "import torch\n",
    "import torchvision\n",
    "from torch.utils.data import Dataset\n",
    "import torch.nn as nn\n",
    "import torch.optim as optim\n",
    "import torchvision.transforms as transforms\n",
    "from torch.utils.data import DataLoader, WeightedRandomSampler\n",
    "from torchvision.datasets import CIFAR10\n",
    "from torch.optim.lr_scheduler import MultiStepLR\n",
    "from torchvision.models import resnet18"
   ]
  },
  {
   "cell_type": "code",
   "execution_count": 40,
   "id": "70c0a61f-013b-4166-8d0b-0ebd427b7218",
   "metadata": {},
   "outputs": [],
   "source": [
    "# 设置设备\n",
    "device = torch.device('cuda' if torch.cuda.is_available() else 'cpu')"
   ]
  },
  {
   "cell_type": "code",
   "execution_count": 41,
   "id": "033242c1-bb10-4066-bb53-69bc2709a95c",
   "metadata": {},
   "outputs": [],
   "source": [
    "# 定义模型\n",
    "class Net(nn.Module):\n",
    "    def __init__(self):\n",
    "        super(Net, self).__init__()\n",
    "        self.resnet = resnet18(pretrained=True)\n",
    "        self.resnet.fc = nn.Linear(512, 10)\n",
    "\n",
    "    def forward(self, x):\n",
    "        x = self.resnet(x)\n",
    "        return x"
   ]
  },
  {
   "cell_type": "code",
   "execution_count": 42,
   "id": "d99f3d13-ca65-4285-87be-fe113d005a58",
   "metadata": {},
   "outputs": [],
   "source": [
    "# 定义类别权重和加权采样器\n",
    "def calculate_class_weights(targets):\n",
    "    class_counts = torch.bincount(targets)\n",
    "    class_weights = 1.0 / class_counts.float()\n",
    "    return class_weights"
   ]
  },
  {
   "cell_type": "code",
   "execution_count": 43,
   "id": "9bdbb775-65be-4f98-b37b-e881aee09e04",
   "metadata": {},
   "outputs": [
    {
     "name": "stdout",
     "output_type": "stream",
     "text": [
      "Files already downloaded and verified\n",
      "Files already downloaded and verified\n"
     ]
    }
   ],
   "source": [
    "# 加载 CIFAR-10并构造为不平衡数据集\n",
    "transform = transforms.Compose([\n",
    "    transforms.ToTensor(),\n",
    "    transforms.Normalize((0.5, 0.5, 0.5), (0.5, 0.5, 0.5))\n",
    "])\n",
    "train_dataset = CIFAR10(root='./data', train=True, download=True, transform=transform)\n",
    "test_dataset = CIFAR10(root='./data', train=False, download=True, transform=transform)\n"
   ]
  },
  {
   "cell_type": "code",
   "execution_count": 44,
   "id": "d97ca35b-98dc-4f98-9932-1dfa2b0f6c73",
   "metadata": {},
   "outputs": [],
   "source": [
    "# 将目标转换为 Tensor\n",
    "train_targets = torch.tensor(train_dataset.targets)\n",
    "test_targets = torch.tensor(test_dataset.targets)"
   ]
  },
  {
   "cell_type": "code",
   "execution_count": 45,
   "id": "5668988b-4cef-4657-9241-748e8695b314",
   "metadata": {},
   "outputs": [
    {
     "name": "stderr",
     "output_type": "stream",
     "text": [
      "Downloading: \"https://download.pytorch.org/models/resnet18-5c106cde.pth\" to /home/ma-user/.cache/torch/hub/checkpoints/resnet18-5c106cde.pth\n"
     ]
    },
    {
     "data": {
      "application/vnd.jupyter.widget-view+json": {
       "model_id": "b2ea4e9e6d0942f29deecf9409b89bdb",
       "version_major": 2,
       "version_minor": 0
      },
      "text/plain": [
       "  0%|          | 0.00/44.7M [00:00<?, ?B/s]"
      ]
     },
     "metadata": {},
     "output_type": "display_data"
    }
   ],
   "source": [
    "# 计算类别权重\n",
    "class_weights = calculate_class_weights(train_targets)\n",
    "\n",
    "# 为每个样本设置权重\n",
    "train_dataset_weights = [class_weights[class_idx] for class_idx in train_targets]\n",
    "test_dataset_weights = [class_weights[class_idx] for class_idx in test_targets]\n",
    "\n",
    "# 定义采样器\n",
    "train_sampler = WeightedRandomSampler(train_dataset_weights, len(train_dataset))\n",
    "test_sampler = WeightedRandomSampler(test_dataset_weights, len(test_dataset))\n",
    "\n",
    "# 创建数据加载器\n",
    "train_dataloader = DataLoader(train_dataset, batch_size=64, sampler=train_sampler)\n",
    "test_dataloader = DataLoader(test_dataset, batch_size=64, sampler=test_sampler)\n",
    "\n",
    "# 初始化模型\n",
    "model = Net().to(device)\n",
    "\n",
    "# 定义损失函数和优化器\n",
    "criterion = nn.CrossEntropyLoss()\n",
    "optimizer = optim.SGD(model.parameters(), lr=0.01, momentum=0.9)\n",
    "\n",
    "# 学习率调度器\n",
    "scheduler = MultiStepLR(optimizer, milestones=[40, 80], gamma=0.1)"
   ]
  },
  {
   "cell_type": "code",
   "execution_count": 46,
   "id": "4f6cb301-2d45-46b1-bea7-ce37799687b5",
   "metadata": {},
   "outputs": [],
   "source": [
    "# 训练循环\n",
    "def train(model, dataloader, criterion, optimizer):\n",
    "    model.train()\n",
    "    running_loss = 0.0\n",
    "    correct = 0\n",
    "    total = 0\n",
    "\n",
    "    for images, labels in dataloader:\n",
    "        images, labels = images.to(device), labels.to(device)\n",
    "        optimizer.zero_grad()\n",
    "        outputs = model(images)\n",
    "        loss = criterion(outputs, labels)\n",
    "        loss.backward()\n",
    "        optimizer.step()\n",
    "\n",
    "        running_loss += loss.item()\n",
    "        _, predicted = outputs.max(1)\n",
    "        total += labels.size(0)\n",
    "        correct += predicted.eq(labels).sum().item()\n",
    "\n",
    "    return running_loss / len(dataloader), 100.0 * correct / total"
   ]
  },
  {
   "cell_type": "code",
   "execution_count": 47,
   "id": "3e93874a-14fa-4bc1-9afd-47d4df6f4fc4",
   "metadata": {},
   "outputs": [],
   "source": [
    "# 测试循环\n",
    "def evaluate(model, dataloader, criterion):\n",
    "    model.eval()\n",
    "    running_loss = 0.0\n",
    "    correct = 0\n",
    "    total = 0\n",
    "\n",
    "    with torch.no_grad():\n",
    "        for images, labels in dataloader:\n",
    "            images, labels = images.to(device), labels.to(device)\n",
    "            outputs = model(images)\n",
    "            loss = criterion(outputs, labels)\n",
    "\n",
    "            running_loss += loss.item()\n",
    "            _, predicted = outputs.max(1)\n",
    "            total += labels.size(0)\n",
    "            correct += predicted.eq(labels).sum().item()\n",
    "\n",
    "    return running_loss / len(dataloader), 100.0 * correct / total"
   ]
  },
  {
   "cell_type": "code",
   "execution_count": 48,
   "id": "9c6eaa10-71f3-45a8-ad35-26abb030a99a",
   "metadata": {},
   "outputs": [
    {
     "name": "stdout",
     "output_type": "stream",
     "text": [
      "Epoch 1/100 - Train Loss: 1.0081 - Train Acc: 66.83% - Test Loss: 0.8071 - Test Acc: 72.10%\n",
      "Epoch 2/100 - Train Loss: 0.6114 - Train Acc: 79.64% - Test Loss: 0.6850 - Test Acc: 77.50%\n",
      "Epoch 3/100 - Train Loss: 0.4799 - Train Acc: 83.97% - Test Loss: 0.6374 - Test Acc: 79.12%\n",
      "Epoch 4/100 - Train Loss: 0.3753 - Train Acc: 87.43% - Test Loss: 0.6774 - Test Acc: 79.64%\n",
      "Epoch 5/100 - Train Loss: 0.2957 - Train Acc: 90.14% - Test Loss: 0.6429 - Test Acc: 80.40%\n",
      "Epoch 6/100 - Train Loss: 0.2424 - Train Acc: 91.90% - Test Loss: 0.6614 - Test Acc: 80.52%\n",
      "Epoch 7/100 - Train Loss: 0.2018 - Train Acc: 93.42% - Test Loss: 0.7144 - Test Acc: 80.43%\n",
      "Epoch 8/100 - Train Loss: 0.1697 - Train Acc: 94.34% - Test Loss: 0.7506 - Test Acc: 79.85%\n",
      "Epoch 9/100 - Train Loss: 0.1401 - Train Acc: 95.33% - Test Loss: 0.7861 - Test Acc: 80.78%\n",
      "Epoch 10/100 - Train Loss: 0.1244 - Train Acc: 95.82% - Test Loss: 0.8574 - Test Acc: 79.44%\n",
      "Epoch 11/100 - Train Loss: 0.1084 - Train Acc: 96.32% - Test Loss: 0.8350 - Test Acc: 79.91%\n",
      "Epoch 12/100 - Train Loss: 0.0864 - Train Acc: 97.09% - Test Loss: 0.8180 - Test Acc: 81.57%\n",
      "Epoch 13/100 - Train Loss: 0.0770 - Train Acc: 97.34% - Test Loss: 0.7670 - Test Acc: 82.18%\n",
      "Epoch 14/100 - Train Loss: 0.0768 - Train Acc: 97.36% - Test Loss: 0.8109 - Test Acc: 81.11%\n",
      "Epoch 15/100 - Train Loss: 0.0572 - Train Acc: 98.10% - Test Loss: 0.8930 - Test Acc: 80.94%\n",
      "Epoch 16/100 - Train Loss: 0.0514 - Train Acc: 98.35% - Test Loss: 0.9161 - Test Acc: 81.05%\n",
      "Epoch 17/100 - Train Loss: 0.0531 - Train Acc: 98.22% - Test Loss: 0.9368 - Test Acc: 81.45%\n",
      "Epoch 18/100 - Train Loss: 0.0500 - Train Acc: 98.30% - Test Loss: 0.9256 - Test Acc: 80.68%\n",
      "Epoch 19/100 - Train Loss: 0.0402 - Train Acc: 98.60% - Test Loss: 0.9685 - Test Acc: 80.90%\n",
      "Epoch 20/100 - Train Loss: 0.0375 - Train Acc: 98.75% - Test Loss: 1.0038 - Test Acc: 81.22%\n",
      "Epoch 21/100 - Train Loss: 0.0338 - Train Acc: 98.87% - Test Loss: 0.9469 - Test Acc: 81.39%\n",
      "Epoch 22/100 - Train Loss: 0.0357 - Train Acc: 98.80% - Test Loss: 1.0977 - Test Acc: 80.73%\n",
      "Epoch 23/100 - Train Loss: 0.0400 - Train Acc: 98.64% - Test Loss: 0.9678 - Test Acc: 82.14%\n",
      "Epoch 24/100 - Train Loss: 0.0255 - Train Acc: 99.15% - Test Loss: 0.9543 - Test Acc: 82.06%\n",
      "Epoch 25/100 - Train Loss: 0.0241 - Train Acc: 99.21% - Test Loss: 1.0289 - Test Acc: 81.35%\n",
      "Epoch 26/100 - Train Loss: 0.0228 - Train Acc: 99.21% - Test Loss: 0.9691 - Test Acc: 82.24%\n",
      "Epoch 27/100 - Train Loss: 0.0196 - Train Acc: 99.33% - Test Loss: 0.9856 - Test Acc: 82.77%\n",
      "Epoch 28/100 - Train Loss: 0.0199 - Train Acc: 99.34% - Test Loss: 1.0116 - Test Acc: 82.19%\n",
      "Epoch 29/100 - Train Loss: 0.0146 - Train Acc: 99.52% - Test Loss: 1.0401 - Test Acc: 82.31%\n",
      "Epoch 30/100 - Train Loss: 0.0205 - Train Acc: 99.31% - Test Loss: 1.0752 - Test Acc: 81.38%\n",
      "Epoch 31/100 - Train Loss: 0.0164 - Train Acc: 99.42% - Test Loss: 1.1140 - Test Acc: 81.43%\n",
      "Epoch 32/100 - Train Loss: 0.0185 - Train Acc: 99.42% - Test Loss: 1.1109 - Test Acc: 81.09%\n",
      "Epoch 33/100 - Train Loss: 0.0172 - Train Acc: 99.48% - Test Loss: 1.0833 - Test Acc: 81.32%\n",
      "Epoch 34/100 - Train Loss: 0.0165 - Train Acc: 99.43% - Test Loss: 1.1310 - Test Acc: 81.72%\n",
      "Epoch 35/100 - Train Loss: 0.0171 - Train Acc: 99.45% - Test Loss: 1.0373 - Test Acc: 81.93%\n",
      "Epoch 36/100 - Train Loss: 0.0109 - Train Acc: 99.65% - Test Loss: 1.1033 - Test Acc: 81.47%\n",
      "Epoch 37/100 - Train Loss: 0.0163 - Train Acc: 99.47% - Test Loss: 1.1595 - Test Acc: 80.83%\n",
      "Epoch 38/100 - Train Loss: 0.0199 - Train Acc: 99.35% - Test Loss: 1.0116 - Test Acc: 82.18%\n",
      "Epoch 39/100 - Train Loss: 0.0146 - Train Acc: 99.54% - Test Loss: 1.0556 - Test Acc: 81.81%\n",
      "Epoch 40/100 - Train Loss: 0.0202 - Train Acc: 99.40% - Test Loss: 1.0720 - Test Acc: 81.80%\n",
      "Epoch 41/100 - Train Loss: 0.0077 - Train Acc: 99.77% - Test Loss: 0.9773 - Test Acc: 82.89%\n",
      "Epoch 42/100 - Train Loss: 0.0037 - Train Acc: 99.90% - Test Loss: 1.0180 - Test Acc: 82.41%\n",
      "Epoch 43/100 - Train Loss: 0.0027 - Train Acc: 99.94% - Test Loss: 1.0212 - Test Acc: 82.80%\n",
      "Epoch 44/100 - Train Loss: 0.0015 - Train Acc: 99.98% - Test Loss: 1.0903 - Test Acc: 82.25%\n",
      "Epoch 45/100 - Train Loss: 0.0014 - Train Acc: 99.98% - Test Loss: 0.9779 - Test Acc: 83.14%\n",
      "Epoch 46/100 - Train Loss: 0.0011 - Train Acc: 99.98% - Test Loss: 1.0109 - Test Acc: 82.89%\n",
      "Epoch 47/100 - Train Loss: 0.0010 - Train Acc: 99.99% - Test Loss: 1.0814 - Test Acc: 82.65%\n",
      "Epoch 48/100 - Train Loss: 0.0011 - Train Acc: 99.98% - Test Loss: 1.0594 - Test Acc: 82.84%\n",
      "Epoch 49/100 - Train Loss: 0.0008 - Train Acc: 99.99% - Test Loss: 1.0971 - Test Acc: 82.94%\n",
      "Epoch 50/100 - Train Loss: 0.0009 - Train Acc: 99.99% - Test Loss: 1.1268 - Test Acc: 82.60%\n",
      "Epoch 51/100 - Train Loss: 0.0009 - Train Acc: 99.98% - Test Loss: 1.0293 - Test Acc: 83.11%\n",
      "Epoch 52/100 - Train Loss: 0.0009 - Train Acc: 99.98% - Test Loss: 1.0348 - Test Acc: 83.36%\n",
      "Epoch 53/100 - Train Loss: 0.0009 - Train Acc: 99.99% - Test Loss: 1.1294 - Test Acc: 82.57%\n",
      "Epoch 54/100 - Train Loss: 0.0008 - Train Acc: 99.99% - Test Loss: 1.0912 - Test Acc: 83.03%\n",
      "Epoch 55/100 - Train Loss: 0.0006 - Train Acc: 99.99% - Test Loss: 1.0945 - Test Acc: 82.98%\n",
      "Epoch 56/100 - Train Loss: 0.0006 - Train Acc: 99.99% - Test Loss: 1.1087 - Test Acc: 82.61%\n",
      "Epoch 57/100 - Train Loss: 0.0007 - Train Acc: 100.00% - Test Loss: 1.0997 - Test Acc: 82.88%\n",
      "Epoch 58/100 - Train Loss: 0.0014 - Train Acc: 99.99% - Test Loss: 1.1095 - Test Acc: 83.04%\n",
      "Epoch 59/100 - Train Loss: 0.0007 - Train Acc: 99.99% - Test Loss: 1.1151 - Test Acc: 83.27%\n",
      "Epoch 60/100 - Train Loss: 0.0006 - Train Acc: 99.99% - Test Loss: 1.1618 - Test Acc: 82.17%\n",
      "Epoch 61/100 - Train Loss: 0.0007 - Train Acc: 100.00% - Test Loss: 1.1682 - Test Acc: 82.97%\n",
      "Epoch 62/100 - Train Loss: 0.0005 - Train Acc: 99.99% - Test Loss: 1.0837 - Test Acc: 83.43%\n",
      "Epoch 63/100 - Train Loss: 0.0005 - Train Acc: 99.99% - Test Loss: 1.0947 - Test Acc: 83.23%\n",
      "Epoch 64/100 - Train Loss: 0.0003 - Train Acc: 100.00% - Test Loss: 1.1340 - Test Acc: 83.51%\n",
      "Epoch 65/100 - Train Loss: 0.0004 - Train Acc: 100.00% - Test Loss: 1.1266 - Test Acc: 82.95%\n",
      "Epoch 66/100 - Train Loss: 0.0003 - Train Acc: 100.00% - Test Loss: 1.1174 - Test Acc: 83.32%\n",
      "Epoch 67/100 - Train Loss: 0.0003 - Train Acc: 100.00% - Test Loss: 1.1695 - Test Acc: 82.49%\n",
      "Epoch 68/100 - Train Loss: 0.0003 - Train Acc: 100.00% - Test Loss: 1.1356 - Test Acc: 83.20%\n",
      "Epoch 69/100 - Train Loss: 0.0003 - Train Acc: 100.00% - Test Loss: 1.1454 - Test Acc: 82.90%\n",
      "Epoch 70/100 - Train Loss: 0.0003 - Train Acc: 100.00% - Test Loss: 1.1181 - Test Acc: 83.59%\n",
      "Epoch 71/100 - Train Loss: 0.0003 - Train Acc: 100.00% - Test Loss: 1.1350 - Test Acc: 83.09%\n",
      "Epoch 72/100 - Train Loss: 0.0004 - Train Acc: 99.99% - Test Loss: 1.1665 - Test Acc: 83.32%\n",
      "Epoch 73/100 - Train Loss: 0.0004 - Train Acc: 100.00% - Test Loss: 1.1663 - Test Acc: 83.51%\n",
      "Epoch 74/100 - Train Loss: 0.0003 - Train Acc: 100.00% - Test Loss: 1.1477 - Test Acc: 82.49%\n",
      "Epoch 75/100 - Train Loss: 0.0002 - Train Acc: 100.00% - Test Loss: 1.1735 - Test Acc: 83.35%\n",
      "Epoch 76/100 - Train Loss: 0.0002 - Train Acc: 100.00% - Test Loss: 1.1838 - Test Acc: 83.42%\n",
      "Epoch 77/100 - Train Loss: 0.0002 - Train Acc: 100.00% - Test Loss: 1.2360 - Test Acc: 81.86%\n",
      "Epoch 78/100 - Train Loss: 0.0003 - Train Acc: 100.00% - Test Loss: 1.1748 - Test Acc: 82.92%\n",
      "Epoch 79/100 - Train Loss: 0.0004 - Train Acc: 99.99% - Test Loss: 1.1645 - Test Acc: 83.27%\n",
      "Epoch 80/100 - Train Loss: 0.0002 - Train Acc: 100.00% - Test Loss: 1.2124 - Test Acc: 82.93%\n",
      "Epoch 81/100 - Train Loss: 0.0002 - Train Acc: 100.00% - Test Loss: 1.0700 - Test Acc: 83.50%\n",
      "Epoch 82/100 - Train Loss: 0.0002 - Train Acc: 100.00% - Test Loss: 1.1384 - Test Acc: 83.24%\n",
      "Epoch 83/100 - Train Loss: 0.0002 - Train Acc: 100.00% - Test Loss: 1.2000 - Test Acc: 82.22%\n",
      "Epoch 84/100 - Train Loss: 0.0003 - Train Acc: 99.99% - Test Loss: 1.1693 - Test Acc: 83.26%\n",
      "Epoch 85/100 - Train Loss: 0.0003 - Train Acc: 100.00% - Test Loss: 1.1951 - Test Acc: 82.74%\n",
      "Epoch 86/100 - Train Loss: 0.0002 - Train Acc: 100.00% - Test Loss: 1.2182 - Test Acc: 82.66%\n",
      "Epoch 87/100 - Train Loss: 0.0003 - Train Acc: 100.00% - Test Loss: 1.2634 - Test Acc: 82.38%\n",
      "Epoch 88/100 - Train Loss: 0.0004 - Train Acc: 100.00% - Test Loss: 1.1478 - Test Acc: 83.28%\n",
      "Epoch 89/100 - Train Loss: 0.0002 - Train Acc: 100.00% - Test Loss: 1.1216 - Test Acc: 83.34%\n",
      "Epoch 90/100 - Train Loss: 0.0005 - Train Acc: 100.00% - Test Loss: 1.2013 - Test Acc: 83.26%\n",
      "Epoch 91/100 - Train Loss: 0.0002 - Train Acc: 100.00% - Test Loss: 1.1750 - Test Acc: 83.22%\n",
      "Epoch 92/100 - Train Loss: 0.0002 - Train Acc: 100.00% - Test Loss: 1.2208 - Test Acc: 82.96%\n",
      "Epoch 93/100 - Train Loss: 0.0003 - Train Acc: 100.00% - Test Loss: 1.1234 - Test Acc: 83.72%\n",
      "Epoch 94/100 - Train Loss: 0.0002 - Train Acc: 100.00% - Test Loss: 1.2176 - Test Acc: 82.76%\n",
      "Epoch 95/100 - Train Loss: 0.0001 - Train Acc: 100.00% - Test Loss: 1.1987 - Test Acc: 83.29%\n",
      "Epoch 96/100 - Train Loss: 0.0002 - Train Acc: 100.00% - Test Loss: 1.1674 - Test Acc: 83.12%\n",
      "Epoch 97/100 - Train Loss: 0.0002 - Train Acc: 100.00% - Test Loss: 1.1122 - Test Acc: 83.40%\n",
      "Epoch 98/100 - Train Loss: 0.0002 - Train Acc: 100.00% - Test Loss: 1.1582 - Test Acc: 82.85%\n",
      "Epoch 99/100 - Train Loss: 0.0002 - Train Acc: 100.00% - Test Loss: 1.1464 - Test Acc: 83.39%\n",
      "Epoch 100/100 - Train Loss: 0.0003 - Train Acc: 100.00% - Test Loss: 1.1617 - Test Acc: 82.87%\n"
     ]
    }
   ],
   "source": [
    "# 训练和测试\n",
    "num_epochs = 100\n",
    "\n",
    "for epoch in range(num_epochs):\n",
    "    train_loss, train_accuracy = train(model, train_dataloader, criterion, optimizer)\n",
    "    test_loss, test_accuracy = evaluate(model, test_dataloader, criterion)\n",
    "\n",
    "    print(f'Epoch {epoch+1}/{num_epochs} - Train Loss: {train_loss:.4f} - Train Acc: {train_accuracy:.2f}% - Test Loss: {test_loss:.4f} - Test Acc: {test_accuracy:.2f}%')\n",
    "\n",
    "    scheduler.step()\n"
   ]
  }
 ],
 "metadata": {
  "kernelspec": {
   "display_name": "Python 3.9.12 ('base')",
   "language": "python",
   "name": "python3"
  },
  "language_info": {
   "codemirror_mode": {
    "name": "ipython",
    "version": 3
   },
   "file_extension": ".py",
   "mimetype": "text/x-python",
   "name": "python",
   "nbconvert_exporter": "python",
   "pygments_lexer": "ipython3",
   "version": "3.9.12"
  },
  "vscode": {
   "interpreter": {
    "hash": "1818a7cf32131e9ad82e08d0c725acdbfedf88956d469e5aa89927950633eefd"
   }
  }
 },
 "nbformat": 4,
 "nbformat_minor": 5
}
